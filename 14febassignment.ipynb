{
 "cells": [
  {
   "cell_type": "code",
   "execution_count": 1,
   "id": "ddab7b2c-67d8-459d-9e9c-75fb615a1da6",
   "metadata": {},
   "outputs": [],
   "source": [
    "import logging"
   ]
  },
  {
   "cell_type": "code",
   "execution_count": 2,
   "id": "bd5a331d-8fc7-4a47-8fb2-d759f147dde4",
   "metadata": {},
   "outputs": [],
   "source": [
    "logging.basicConfig(filename = \"ass14.log\" , level= logging.ERROR)"
   ]
  },
  {
   "cell_type": "code",
   "execution_count": 3,
   "id": "4883644e-04db-4b67-b900-80f7856600a0",
   "metadata": {},
   "outputs": [],
   "source": [
    "logging.error(\"Ans1\")"
   ]
  },
  {
   "cell_type": "code",
   "execution_count": 4,
   "id": "d8c77c01-ca9a-4bfb-85a7-9d1c476ef9be",
   "metadata": {},
   "outputs": [],
   "source": [
    "logging.error(\"Multihreadling in pyrhon refers to the process of creating multiple threads od execution within a single program. Each thread runs independently and concurrently with other threads, allowing for more efficent use of resources and faster program execution.\")\n",
    "\n",
    "logging.error(\"Multithreading is commonly used in python to perform tasks that require parallelism,such as handliing multiple network connectionc, performing I/O operations, or running multiple tasks concurrently, improving performance and reducing the time required to complete a task.\")\n",
    "\n",
    "logging.error(\"python provides a built-in modules called 'threading' for handling threads in python. this module provides a simple way to create and manage threads in python programs. The threading module includes classes and function for creating and mannaging threads, as well as synchronization primitives such as locks, semaphores, and condition variables to ensure thread- safe access to shared resources.\")"
   ]
  },
  {
   "cell_type": "code",
   "execution_count": 5,
   "id": "9f07806f-1dcf-411f-9bc5-8ee3f547fcab",
   "metadata": {},
   "outputs": [],
   "source": [
    "logging.error(\"Ans2\")"
   ]
  },
  {
   "cell_type": "code",
   "execution_count": 6,
   "id": "74afaa9e-d115-4493-bf62-34f38ee92c5a",
   "metadata": {},
   "outputs": [],
   "source": [
    "logging.error(\"The Threading module in python is used to create and manage threads in a program. Threads are a way of running multiple tasks concurrently, allowing a program to make more efficent use of available resources.\")\n",
    "logging.error(\"1.'ActiveCount()' function returns the number of active threads in the current thread object. This function is useful in determining the current state of the thread objects\")\n",
    "logging.error(\"2.'currentThread()' function returns a reference to the current thread object. This function is useful in identifying the current thread object and can be used to set or get varous attributes of the thread object.\")\n",
    "logging.error(\"3.'enumerate()' function returns a list of all thread object that are currently active in the program.THis function is useful in determining the state of all threads taht are currently running and cana be used to perform operations on each of these threads.\")"
   ]
  },
  {
   "cell_type": "code",
   "execution_count": 9,
   "id": "622582ec-8ffd-4a64-b98e-a3d9a73192b1",
   "metadata": {},
   "outputs": [],
   "source": [
    "logging.error(\"Ans3\")"
   ]
  },
  {
   "cell_type": "code",
   "execution_count": 10,
   "id": "46a9994c-07f0-4125-8a94-fefb88309e20",
   "metadata": {},
   "outputs": [],
   "source": [
    "logging.error(\"1.'run()' is a method in the 'Thread' class that defines the code that will be executed in the thread. it is called when the  thread is started using the start() method. The run() method can be overridden in a subclass of thread to provide specific functionality for the thread.\")\n",
    "logging.error(\"2.start() is a method in the 'Thread' class that starts the execution of the thread.it creates a new thread of control and calls the run() method on the thread object. The start() method should only be called onceon a thread object.if it is called multiple times, it will raise a runtimeError.\")\n",
    "logging.error(\"3. Join() is a method in the 'Thread' class that blocks the calling thread until the thread on which it is called has completed.This methods is useful for synchronizing the execution of threads. if the optional timeout argument is specified, the 'join()'method will block the calling thread for the specified amount of time before returning.\")\n",
    "logging.error(\"4. isAlive() is a method in the 'Thread' class that returns 'True' if the thread is currently executing, and 'False' otherwise. This method can be used to check if a thread is still running or has  completed. if the 'start()'method has not been called on the thread 'isAlive' will return 'False'. \")"
   ]
  },
  {
   "cell_type": "code",
   "execution_count": 11,
   "id": "81cc0d0b-7de4-4ffe-8951-3852b665ddcf",
   "metadata": {},
   "outputs": [],
   "source": [
    "logging.error(\"Ans 4\")"
   ]
  },
  {
   "cell_type": "code",
   "execution_count": 12,
   "id": "c3c9dfcd-0f61-4beb-8121-bf738cb65038",
   "metadata": {},
   "outputs": [],
   "source": [
    "import threading"
   ]
  },
  {
   "cell_type": "code",
   "execution_count": 13,
   "id": "529f73e2-845a-4aa7-a68f-be5be7f9a098",
   "metadata": {},
   "outputs": [
    {
     "name": "stdout",
     "output_type": "stream",
     "text": [
      "1 squared is 1\n",
      "2 squared is 4\n",
      "3 squared is 9\n",
      "4 squared is 16\n",
      "5 squared is 25\n",
      "6 squared is 36\n",
      "7 squared is 49\n",
      "8 squared is 64\n",
      "9 squared is 81\n",
      "10 squared is 100\n",
      "1 cubes is 1\n",
      "2 cubes is 8\n",
      "3 cubes is 27\n",
      "4 cubes is 64\n",
      "5 cubes is 125\n",
      "6 cubes is 216\n",
      "7 cubes is 343\n",
      "8 cubes is 512\n",
      "9 cubes is 729\n",
      "10 cubes is 1000\n"
     ]
    }
   ],
   "source": [
    "def print_squares():\n",
    "    for i in range(1,11):\n",
    "        print(f\"{i} squared is {i*i}\")\n",
    "        logging.error(f\"{i} squared is {i*i}\")\n",
    "def print_cubes():\n",
    "    for i in range(1,11):\n",
    "        print(f\"{i} cubes is {i*i*i}\")\n",
    "        logging.error(f\"{i} cubes is {i*i*i}\")\n",
    "        \n",
    "if __name__== \"__main__\":\n",
    "    t1 = threading.Thread(target=print_squares)\n",
    "    t2 = threading.Thread(target=print_cubes)\n",
    "    t1.start()\n",
    "    t2.start()\n",
    "    t1.join()\n",
    "    t2.join()"
   ]
  },
  {
   "cell_type": "code",
   "execution_count": 14,
   "id": "dd317262-dd7f-41e2-b817-f68c2517dc0d",
   "metadata": {},
   "outputs": [],
   "source": [
    "logging.error(\"Ans 5\")"
   ]
  },
  {
   "cell_type": "code",
   "execution_count": 15,
   "id": "9e247c31-25a7-46d8-88b5-4dca4d5bae9b",
   "metadata": {},
   "outputs": [],
   "source": [
    "logging.error(\"Multithreading is a technique that enbles concurrent execution of multiple threads within a single process: \")\n",
    "logging.error(\"Advantages: \")\n",
    "logging.error(\"1. Increased performance: Multithreading can lead to increased performance by allowing multiple tasks to be executed simultaneously.This can lead to faster execution times and increased throughput.\")\n",
    "logging.error(\"2. Improved responsiveness: BY execution tasks concurrently, multithreading can imporve the responsiveness of an application. for example, a GUI application can remain responsive while a time-consuming operation is executing in the background.\")\n",
    "logging.error(\"3. Resource sharing: Multithreading allows threads to share resources such as memory, files, and network connections. This can reduce resource consumption and improve scability.\")\n",
    "logging.error(\"4. Simplified program design: By breaking up a program into multiple threads, the program can be simplified and made more  modular, which can improve maintainbility and reduce development time.\")\n",
    "logging.error(\"Disadvantages:\")\n",
    "logging.error(\"1. Increased complexity: Multithreading can make a program more complex, as threads must be coordinated and synchronized to avoid conflicts and race conditions. This can make debugging and testing more difficult. \")\n",
    "logging.error(\"2. Synchronization overhead: Synchronization between threads can introduce overhead, as locks and other synchronization mechanisms must be used to ensure thread safety. This can reduce performance and increase the complexity of the code.\")\n",
    "logging.error(\"3. Deadlocks: If threads are not properly synchronized, deadlocks can occur where two or more threads are waiting for each other to release resources.\")\n",
    "logging.error(\"4. Increased resource consumption: Multithreading can increase resouce consumption, as multiple threads require additional resouces such as memory and CPU time.\")"
   ]
  },
  {
   "cell_type": "code",
   "execution_count": 16,
   "id": "91c4359e-ff01-445b-b573-824210abdb96",
   "metadata": {},
   "outputs": [],
   "source": [
    "logging.error(\"Deadlocks occurs when two or more processes are waiting for each other to release resources that they need in order to proceed.This creates a circular dependency, where each process is blocked waiting for a resource that is held by another process. Deadlocks can cause a system to become unresponsive or even crash. To avoid deadlocks, it is important to ensure that resources are properly managed and released when they are no longer needed.\")\n",
    "logging.error(\"Race condition occur when two or more processes access shared resources in a way that produces unexpected result. for example, if two processes try to write to the same varriable at the same time, the final value of that variable will depend on which process finishes first. This can lead to bugs that are difficult to diagnose and reproduce. to avoid race conditions, it is important to use synchronization mechanisms such as locks or semaphores to ensure that shared resources are accessed in a multually exclusive manner.\")"
   ]
  },
  {
   "cell_type": "code",
   "execution_count": null,
   "id": "54fd51df-aa3c-4764-ab68-affb59cf927f",
   "metadata": {},
   "outputs": [],
   "source": []
  }
 ],
 "metadata": {
  "kernelspec": {
   "display_name": "Python 3 (ipykernel)",
   "language": "python",
   "name": "python3"
  },
  "language_info": {
   "codemirror_mode": {
    "name": "ipython",
    "version": 3
   },
   "file_extension": ".py",
   "mimetype": "text/x-python",
   "name": "python",
   "nbconvert_exporter": "python",
   "pygments_lexer": "ipython3",
   "version": "3.10.8"
  }
 },
 "nbformat": 4,
 "nbformat_minor": 5
}
